{
  "nbformat": 4,
  "nbformat_minor": 0,
  "metadata": {
    "colab": {
      "name": "CNN.ipynb",
      "provenance": [],
      "collapsed_sections": [],
      "authorship_tag": "ABX9TyNd7wPfwBU8Ec8oNlisUZls",
      "include_colab_link": true
    },
    "kernelspec": {
      "name": "python3",
      "display_name": "Python 3"
    }
  },
  "cells": [
    {
      "cell_type": "markdown",
      "metadata": {
        "id": "view-in-github",
        "colab_type": "text"
      },
      "source": [
        "<a href=\"https://colab.research.google.com/github/Sunber2111/FDR/blob/master/CNN.ipynb\" target=\"_parent\"><img src=\"https://colab.research.google.com/assets/colab-badge.svg\" alt=\"Open In Colab\"/></a>"
      ]
    },
    {
      "cell_type": "code",
      "metadata": {
        "id": "YJxhqSsKlUqg",
        "colab_type": "code",
        "colab": {}
      },
      "source": [
        "import warnings\n",
        "warnings.filterwarnings('ignore')\n",
        "import numpy as np\n",
        "import pandas as pd\n",
        "import matplotlib.pyplot as plt\n",
        "from sklearn.decomposition import PCA\n",
        "import tensorflow as tf\n",
        "from tensorflow.keras.layers import Input, Conv2D, Dense, Flatten, Dropout\n",
        "from tensorflow.keras.models import Model,Sequential"
      ],
      "execution_count": 1,
      "outputs": []
    },
    {
      "cell_type": "code",
      "metadata": {
        "id": "IVKsRwL1l_q9",
        "colab_type": "code",
        "colab": {}
      },
      "source": [
        "data = np.load('./data_pca_35_y_mean.pickle.npz')"
      ],
      "execution_count": 2,
      "outputs": []
    },
    {
      "cell_type": "code",
      "metadata": {
        "id": "gRmzWTs1mD2e",
        "colab_type": "code",
        "colab": {}
      },
      "source": [
        "X = data['arr_0']\n",
        "y = data['arr_1']\n",
        "mean = data['arr_2']"
      ],
      "execution_count": 3,
      "outputs": []
    },
    {
      "cell_type": "code",
      "metadata": {
        "id": "JbarQ6GiTmXd",
        "colab_type": "code",
        "colab": {
          "base_uri": "https://localhost:8080/",
          "height": 50
        },
        "outputId": "72098584-a5f8-471f-e92f-fb063111927f"
      },
      "source": [
        "y"
      ],
      "execution_count": 4,
      "outputs": [
        {
          "output_type": "execute_result",
          "data": {
            "text/plain": [
              "array([1, 1, 1, 1, 1, 1, 1, 1, 1, 1, 1, 1, 1, 1, 1, 1, 1, 0, 0, 0, 0, 0,\n",
              "       0, 0, 0, 0, 0, 0, 0, 0, 0, 0, 0, 0, 0], dtype=int32)"
            ]
          },
          "metadata": {
            "tags": []
          },
          "execution_count": 4
        }
      ]
    },
    {
      "cell_type": "code",
      "metadata": {
        "id": "xG8HaqNHmGli",
        "colab_type": "code",
        "colab": {
          "base_uri": "https://localhost:8080/",
          "height": 134
        },
        "outputId": "c6f84914-2591-4831-af51-d9c03d60b0b9"
      },
      "source": [
        "from sklearn.model_selection import train_test_split\n",
        "x_train, x_test, y_train, y_test = train_test_split(X,y,test_size=0.2,stratify=y)\n",
        "x_train[0]"
      ],
      "execution_count": 5,
      "outputs": [
        {
          "output_type": "execute_result",
          "data": {
            "text/plain": [
              "array([ 0.08629481,  0.97915448, -2.13224271,  1.21033235,  0.10394724,\n",
              "       -0.3710297 ,  1.13757957, -0.33360254,  0.68722758, -0.25685242,\n",
              "        1.00854197, -0.3142619 , -1.35378344,  0.91639695,  1.56092186,\n",
              "        0.78641104, -0.71761867, -0.70041253,  0.58786935,  1.66709878,\n",
              "       -0.43706365,  0.78056094,  0.57171764, -2.18992827,  0.41630705,\n",
              "        0.8404765 , -0.12552434,  0.8439947 , -0.7936337 ,  1.04868232,\n",
              "        1.48417482, -1.02767032, -0.46515526,  0.49962169,  0.98561076])"
            ]
          },
          "metadata": {
            "tags": []
          },
          "execution_count": 5
        }
      ]
    },
    {
      "cell_type": "code",
      "metadata": {
        "id": "Ffpriks1YOo6",
        "colab_type": "code",
        "colab": {
          "base_uri": "https://localhost:8080/",
          "height": 34
        },
        "outputId": "e6092f9c-71c0-4aa7-870c-45be1d1aa5c0"
      },
      "source": [
        "x_train[0].shape"
      ],
      "execution_count": 10,
      "outputs": [
        {
          "output_type": "execute_result",
          "data": {
            "text/plain": [
              "(35,)"
            ]
          },
          "metadata": {
            "tags": []
          },
          "execution_count": 10
        }
      ]
    },
    {
      "cell_type": "markdown",
      "metadata": {
        "id": "HTpMJd0ox6rU",
        "colab_type": "text"
      },
      "source": [
        "## Model\n"
      ]
    },
    {
      "cell_type": "code",
      "metadata": {
        "id": "IlN_DT_NVass",
        "colab_type": "code",
        "colab": {}
      },
      "source": [
        "# Build Model using function API\n",
        "\n",
        "K = len(set(y_train))\n",
        "\n",
        "i = Input(shape=x_train[0].shape)\n",
        "x = Flatten()(i)\n",
        "x = Dropout(0.5)(x)\n",
        "x = Dense(1024,activation='relu')(x)\n",
        "x = Dropout(0.2)(x)\n",
        "x = Dense(K,activation='softmax')(x)\n",
        "\n",
        "model = Model(i,x)"
      ],
      "execution_count": 6,
      "outputs": []
    },
    {
      "cell_type": "code",
      "metadata": {
        "id": "E9QtKHI9WRKK",
        "colab_type": "code",
        "colab": {}
      },
      "source": [
        "model.compile(\n",
        "    optimizer='adam',\n",
        "    loss='sparse_categorical_crossentropy',\n",
        "    metrics=['accuracy']\n",
        ")"
      ],
      "execution_count": 7,
      "outputs": []
    },
    {
      "cell_type": "code",
      "metadata": {
        "id": "1Dt11rwmWvIa",
        "colab_type": "code",
        "colab": {
          "base_uri": "https://localhost:8080/",
          "height": 1000
        },
        "outputId": "33e3f88f-46c3-4bef-ea3b-8ce1f1292dda"
      },
      "source": [
        "r = model.fit(x_train,y_train,validation_data=(x_test,y_test),epochs=100)"
      ],
      "execution_count": 37,
      "outputs": [
        {
          "output_type": "stream",
          "text": [
            "Epoch 1/100\n",
            "1/1 [==============================] - 0s 51ms/step - loss: 0.0184 - accuracy: 1.0000 - val_loss: 0.4049 - val_accuracy: 0.8571\n",
            "Epoch 2/100\n",
            "1/1 [==============================] - 0s 18ms/step - loss: 0.0102 - accuracy: 1.0000 - val_loss: 0.4032 - val_accuracy: 0.8571\n",
            "Epoch 3/100\n",
            "1/1 [==============================] - 0s 17ms/step - loss: 0.0151 - accuracy: 1.0000 - val_loss: 0.4017 - val_accuracy: 0.8571\n",
            "Epoch 4/100\n",
            "1/1 [==============================] - 0s 18ms/step - loss: 0.0229 - accuracy: 1.0000 - val_loss: 0.4010 - val_accuracy: 0.8571\n",
            "Epoch 5/100\n",
            "1/1 [==============================] - 0s 18ms/step - loss: 0.0098 - accuracy: 1.0000 - val_loss: 0.4006 - val_accuracy: 0.8571\n",
            "Epoch 6/100\n",
            "1/1 [==============================] - 0s 20ms/step - loss: 0.0676 - accuracy: 0.9643 - val_loss: 0.4018 - val_accuracy: 0.8571\n",
            "Epoch 7/100\n",
            "1/1 [==============================] - 0s 18ms/step - loss: 0.0550 - accuracy: 1.0000 - val_loss: 0.4036 - val_accuracy: 0.8571\n",
            "Epoch 8/100\n",
            "1/1 [==============================] - 0s 19ms/step - loss: 0.0279 - accuracy: 1.0000 - val_loss: 0.4047 - val_accuracy: 0.8571\n",
            "Epoch 9/100\n",
            "1/1 [==============================] - 0s 18ms/step - loss: 0.0321 - accuracy: 1.0000 - val_loss: 0.4060 - val_accuracy: 0.8571\n",
            "Epoch 10/100\n",
            "1/1 [==============================] - 0s 19ms/step - loss: 0.0296 - accuracy: 1.0000 - val_loss: 0.4079 - val_accuracy: 0.8571\n",
            "Epoch 11/100\n",
            "1/1 [==============================] - 0s 19ms/step - loss: 0.0145 - accuracy: 1.0000 - val_loss: 0.4097 - val_accuracy: 0.8571\n",
            "Epoch 12/100\n",
            "1/1 [==============================] - 0s 19ms/step - loss: 0.0112 - accuracy: 1.0000 - val_loss: 0.4113 - val_accuracy: 0.8571\n",
            "Epoch 13/100\n",
            "1/1 [==============================] - 0s 18ms/step - loss: 0.0074 - accuracy: 1.0000 - val_loss: 0.4127 - val_accuracy: 0.8571\n",
            "Epoch 14/100\n",
            "1/1 [==============================] - 0s 20ms/step - loss: 0.0028 - accuracy: 1.0000 - val_loss: 0.4142 - val_accuracy: 0.8571\n",
            "Epoch 15/100\n",
            "1/1 [==============================] - 0s 18ms/step - loss: 0.0075 - accuracy: 1.0000 - val_loss: 0.4161 - val_accuracy: 0.8571\n",
            "Epoch 16/100\n",
            "1/1 [==============================] - 0s 26ms/step - loss: 0.0216 - accuracy: 1.0000 - val_loss: 0.4179 - val_accuracy: 0.8571\n",
            "Epoch 17/100\n",
            "1/1 [==============================] - 0s 20ms/step - loss: 0.0057 - accuracy: 1.0000 - val_loss: 0.4197 - val_accuracy: 0.8571\n",
            "Epoch 18/100\n",
            "1/1 [==============================] - 0s 23ms/step - loss: 0.0594 - accuracy: 0.9643 - val_loss: 0.4220 - val_accuracy: 0.8571\n",
            "Epoch 19/100\n",
            "1/1 [==============================] - 0s 21ms/step - loss: 0.0120 - accuracy: 1.0000 - val_loss: 0.4244 - val_accuracy: 0.8571\n",
            "Epoch 20/100\n",
            "1/1 [==============================] - 0s 18ms/step - loss: 0.0790 - accuracy: 0.9643 - val_loss: 0.4271 - val_accuracy: 0.8571\n",
            "Epoch 21/100\n",
            "1/1 [==============================] - 0s 19ms/step - loss: 0.0228 - accuracy: 1.0000 - val_loss: 0.4289 - val_accuracy: 0.8571\n",
            "Epoch 22/100\n",
            "1/1 [==============================] - 0s 18ms/step - loss: 0.0081 - accuracy: 1.0000 - val_loss: 0.4304 - val_accuracy: 0.8571\n",
            "Epoch 23/100\n",
            "1/1 [==============================] - 0s 18ms/step - loss: 0.0284 - accuracy: 1.0000 - val_loss: 0.4304 - val_accuracy: 0.8571\n",
            "Epoch 24/100\n",
            "1/1 [==============================] - 0s 19ms/step - loss: 0.0124 - accuracy: 1.0000 - val_loss: 0.4304 - val_accuracy: 0.8571\n",
            "Epoch 25/100\n",
            "1/1 [==============================] - 0s 18ms/step - loss: 0.0243 - accuracy: 1.0000 - val_loss: 0.4319 - val_accuracy: 0.8571\n",
            "Epoch 26/100\n",
            "1/1 [==============================] - 0s 18ms/step - loss: 0.0207 - accuracy: 1.0000 - val_loss: 0.4329 - val_accuracy: 0.8571\n",
            "Epoch 27/100\n",
            "1/1 [==============================] - 0s 19ms/step - loss: 0.0064 - accuracy: 1.0000 - val_loss: 0.4339 - val_accuracy: 0.7143\n",
            "Epoch 28/100\n",
            "1/1 [==============================] - 0s 20ms/step - loss: 0.0294 - accuracy: 1.0000 - val_loss: 0.4333 - val_accuracy: 0.7143\n",
            "Epoch 29/100\n",
            "1/1 [==============================] - 0s 18ms/step - loss: 0.0518 - accuracy: 0.9643 - val_loss: 0.4332 - val_accuracy: 0.7143\n",
            "Epoch 30/100\n",
            "1/1 [==============================] - 0s 21ms/step - loss: 0.0103 - accuracy: 1.0000 - val_loss: 0.4328 - val_accuracy: 0.7143\n",
            "Epoch 31/100\n",
            "1/1 [==============================] - 0s 18ms/step - loss: 0.0066 - accuracy: 1.0000 - val_loss: 0.4326 - val_accuracy: 0.7143\n",
            "Epoch 32/100\n",
            "1/1 [==============================] - 0s 23ms/step - loss: 0.0221 - accuracy: 1.0000 - val_loss: 0.4336 - val_accuracy: 0.7143\n",
            "Epoch 33/100\n",
            "1/1 [==============================] - 0s 20ms/step - loss: 0.0555 - accuracy: 1.0000 - val_loss: 0.4348 - val_accuracy: 0.7143\n",
            "Epoch 34/100\n",
            "1/1 [==============================] - 0s 20ms/step - loss: 0.0386 - accuracy: 0.9643 - val_loss: 0.4348 - val_accuracy: 0.7143\n",
            "Epoch 35/100\n",
            "1/1 [==============================] - 0s 20ms/step - loss: 0.0014 - accuracy: 1.0000 - val_loss: 0.4351 - val_accuracy: 0.7143\n",
            "Epoch 36/100\n",
            "1/1 [==============================] - 0s 18ms/step - loss: 0.0111 - accuracy: 1.0000 - val_loss: 0.4355 - val_accuracy: 0.7143\n",
            "Epoch 37/100\n",
            "1/1 [==============================] - 0s 25ms/step - loss: 0.0149 - accuracy: 1.0000 - val_loss: 0.4351 - val_accuracy: 0.7143\n",
            "Epoch 38/100\n",
            "1/1 [==============================] - 0s 19ms/step - loss: 0.0045 - accuracy: 1.0000 - val_loss: 0.4349 - val_accuracy: 0.7143\n",
            "Epoch 39/100\n",
            "1/1 [==============================] - 0s 19ms/step - loss: 0.0066 - accuracy: 1.0000 - val_loss: 0.4348 - val_accuracy: 0.7143\n",
            "Epoch 40/100\n",
            "1/1 [==============================] - 0s 20ms/step - loss: 0.0044 - accuracy: 1.0000 - val_loss: 0.4345 - val_accuracy: 0.7143\n",
            "Epoch 41/100\n",
            "1/1 [==============================] - 0s 20ms/step - loss: 0.0390 - accuracy: 0.9643 - val_loss: 0.4310 - val_accuracy: 0.7143\n",
            "Epoch 42/100\n",
            "1/1 [==============================] - 0s 18ms/step - loss: 0.0040 - accuracy: 1.0000 - val_loss: 0.4279 - val_accuracy: 0.7143\n",
            "Epoch 43/100\n",
            "1/1 [==============================] - 0s 18ms/step - loss: 0.0049 - accuracy: 1.0000 - val_loss: 0.4248 - val_accuracy: 0.7143\n",
            "Epoch 44/100\n",
            "1/1 [==============================] - 0s 20ms/step - loss: 0.0271 - accuracy: 1.0000 - val_loss: 0.4225 - val_accuracy: 0.7143\n",
            "Epoch 45/100\n",
            "1/1 [==============================] - 0s 19ms/step - loss: 0.0201 - accuracy: 1.0000 - val_loss: 0.4200 - val_accuracy: 0.7143\n",
            "Epoch 46/100\n",
            "1/1 [==============================] - 0s 23ms/step - loss: 0.0039 - accuracy: 1.0000 - val_loss: 0.4178 - val_accuracy: 0.7143\n",
            "Epoch 47/100\n",
            "1/1 [==============================] - 0s 21ms/step - loss: 0.0031 - accuracy: 1.0000 - val_loss: 0.4162 - val_accuracy: 0.7143\n",
            "Epoch 48/100\n",
            "1/1 [==============================] - 0s 19ms/step - loss: 0.0084 - accuracy: 1.0000 - val_loss: 0.4144 - val_accuracy: 0.7143\n",
            "Epoch 49/100\n",
            "1/1 [==============================] - 0s 21ms/step - loss: 0.0295 - accuracy: 1.0000 - val_loss: 0.4118 - val_accuracy: 0.7143\n",
            "Epoch 50/100\n",
            "1/1 [==============================] - 0s 19ms/step - loss: 0.0316 - accuracy: 1.0000 - val_loss: 0.4098 - val_accuracy: 0.7143\n",
            "Epoch 51/100\n",
            "1/1 [==============================] - 0s 24ms/step - loss: 0.0040 - accuracy: 1.0000 - val_loss: 0.4081 - val_accuracy: 0.7143\n",
            "Epoch 52/100\n",
            "1/1 [==============================] - 0s 21ms/step - loss: 0.0159 - accuracy: 1.0000 - val_loss: 0.4059 - val_accuracy: 0.7143\n",
            "Epoch 53/100\n",
            "1/1 [==============================] - 0s 21ms/step - loss: 0.0163 - accuracy: 1.0000 - val_loss: 0.4060 - val_accuracy: 0.7143\n",
            "Epoch 54/100\n",
            "1/1 [==============================] - 0s 20ms/step - loss: 0.0060 - accuracy: 1.0000 - val_loss: 0.4062 - val_accuracy: 0.7143\n",
            "Epoch 55/100\n",
            "1/1 [==============================] - 0s 27ms/step - loss: 0.0028 - accuracy: 1.0000 - val_loss: 0.4062 - val_accuracy: 0.7143\n",
            "Epoch 56/100\n",
            "1/1 [==============================] - 0s 20ms/step - loss: 0.0177 - accuracy: 1.0000 - val_loss: 0.4048 - val_accuracy: 0.7143\n",
            "Epoch 57/100\n",
            "1/1 [==============================] - 0s 24ms/step - loss: 0.0350 - accuracy: 1.0000 - val_loss: 0.4052 - val_accuracy: 0.7143\n",
            "Epoch 58/100\n",
            "1/1 [==============================] - 0s 21ms/step - loss: 0.0145 - accuracy: 1.0000 - val_loss: 0.4055 - val_accuracy: 0.7143\n",
            "Epoch 59/100\n",
            "1/1 [==============================] - 0s 19ms/step - loss: 0.0065 - accuracy: 1.0000 - val_loss: 0.4056 - val_accuracy: 0.7143\n",
            "Epoch 60/100\n",
            "1/1 [==============================] - 0s 21ms/step - loss: 0.0205 - accuracy: 1.0000 - val_loss: 0.4100 - val_accuracy: 0.7143\n",
            "Epoch 61/100\n",
            "1/1 [==============================] - 0s 19ms/step - loss: 0.0015 - accuracy: 1.0000 - val_loss: 0.4138 - val_accuracy: 0.7143\n",
            "Epoch 62/100\n",
            "1/1 [==============================] - 0s 19ms/step - loss: 0.0336 - accuracy: 0.9643 - val_loss: 0.4166 - val_accuracy: 0.7143\n",
            "Epoch 63/100\n",
            "1/1 [==============================] - 0s 21ms/step - loss: 0.0042 - accuracy: 1.0000 - val_loss: 0.4190 - val_accuracy: 0.7143\n",
            "Epoch 64/100\n",
            "1/1 [==============================] - 0s 19ms/step - loss: 0.0035 - accuracy: 1.0000 - val_loss: 0.4210 - val_accuracy: 0.7143\n",
            "Epoch 65/100\n",
            "1/1 [==============================] - 0s 20ms/step - loss: 0.0058 - accuracy: 1.0000 - val_loss: 0.4230 - val_accuracy: 0.7143\n",
            "Epoch 66/100\n",
            "1/1 [==============================] - 0s 18ms/step - loss: 0.0199 - accuracy: 1.0000 - val_loss: 0.4239 - val_accuracy: 0.7143\n",
            "Epoch 67/100\n",
            "1/1 [==============================] - 0s 18ms/step - loss: 0.0427 - accuracy: 1.0000 - val_loss: 0.4214 - val_accuracy: 0.7143\n",
            "Epoch 68/100\n",
            "1/1 [==============================] - 0s 22ms/step - loss: 0.0453 - accuracy: 0.9643 - val_loss: 0.4175 - val_accuracy: 0.7143\n",
            "Epoch 69/100\n",
            "1/1 [==============================] - 0s 18ms/step - loss: 0.0199 - accuracy: 1.0000 - val_loss: 0.4135 - val_accuracy: 0.7143\n",
            "Epoch 70/100\n",
            "1/1 [==============================] - 0s 19ms/step - loss: 0.0560 - accuracy: 0.9643 - val_loss: 0.4087 - val_accuracy: 0.7143\n",
            "Epoch 71/100\n",
            "1/1 [==============================] - 0s 19ms/step - loss: 0.0137 - accuracy: 1.0000 - val_loss: 0.4049 - val_accuracy: 0.7143\n",
            "Epoch 72/100\n",
            "1/1 [==============================] - 0s 19ms/step - loss: 0.0053 - accuracy: 1.0000 - val_loss: 0.4017 - val_accuracy: 0.7143\n",
            "Epoch 73/100\n",
            "1/1 [==============================] - 0s 18ms/step - loss: 0.0326 - accuracy: 1.0000 - val_loss: 0.4000 - val_accuracy: 0.7143\n",
            "Epoch 74/100\n",
            "1/1 [==============================] - 0s 22ms/step - loss: 0.0167 - accuracy: 1.0000 - val_loss: 0.3991 - val_accuracy: 0.7143\n",
            "Epoch 75/100\n",
            "1/1 [==============================] - 0s 20ms/step - loss: 0.0244 - accuracy: 1.0000 - val_loss: 0.3964 - val_accuracy: 0.7143\n",
            "Epoch 76/100\n",
            "1/1 [==============================] - 0s 23ms/step - loss: 0.0028 - accuracy: 1.0000 - val_loss: 0.3941 - val_accuracy: 0.7143\n",
            "Epoch 77/100\n",
            "1/1 [==============================] - 0s 30ms/step - loss: 0.0055 - accuracy: 1.0000 - val_loss: 0.3923 - val_accuracy: 0.7143\n",
            "Epoch 78/100\n",
            "1/1 [==============================] - 0s 21ms/step - loss: 0.0122 - accuracy: 1.0000 - val_loss: 0.3906 - val_accuracy: 0.8571\n",
            "Epoch 79/100\n",
            "1/1 [==============================] - 0s 34ms/step - loss: 0.0012 - accuracy: 1.0000 - val_loss: 0.3892 - val_accuracy: 0.8571\n",
            "Epoch 80/100\n",
            "1/1 [==============================] - 0s 20ms/step - loss: 0.0063 - accuracy: 1.0000 - val_loss: 0.3875 - val_accuracy: 0.8571\n",
            "Epoch 81/100\n",
            "1/1 [==============================] - 0s 20ms/step - loss: 0.0109 - accuracy: 1.0000 - val_loss: 0.3864 - val_accuracy: 0.8571\n",
            "Epoch 82/100\n",
            "1/1 [==============================] - 0s 20ms/step - loss: 0.0083 - accuracy: 1.0000 - val_loss: 0.3853 - val_accuracy: 0.8571\n",
            "Epoch 83/100\n",
            "1/1 [==============================] - 0s 21ms/step - loss: 0.0550 - accuracy: 0.9643 - val_loss: 0.3846 - val_accuracy: 0.8571\n",
            "Epoch 84/100\n",
            "1/1 [==============================] - 0s 31ms/step - loss: 0.0179 - accuracy: 1.0000 - val_loss: 0.3827 - val_accuracy: 0.8571\n",
            "Epoch 85/100\n",
            "1/1 [==============================] - 0s 24ms/step - loss: 0.0220 - accuracy: 1.0000 - val_loss: 0.3819 - val_accuracy: 0.8571\n",
            "Epoch 86/100\n",
            "1/1 [==============================] - 0s 22ms/step - loss: 0.0216 - accuracy: 1.0000 - val_loss: 0.3827 - val_accuracy: 0.8571\n",
            "Epoch 87/100\n",
            "1/1 [==============================] - 0s 20ms/step - loss: 0.0153 - accuracy: 1.0000 - val_loss: 0.3829 - val_accuracy: 0.8571\n",
            "Epoch 88/100\n",
            "1/1 [==============================] - 0s 27ms/step - loss: 0.0147 - accuracy: 1.0000 - val_loss: 0.3840 - val_accuracy: 0.8571\n",
            "Epoch 89/100\n",
            "1/1 [==============================] - 0s 23ms/step - loss: 0.0388 - accuracy: 1.0000 - val_loss: 0.3871 - val_accuracy: 0.8571\n",
            "Epoch 90/100\n",
            "1/1 [==============================] - 0s 23ms/step - loss: 0.0336 - accuracy: 1.0000 - val_loss: 0.3926 - val_accuracy: 0.7143\n",
            "Epoch 91/100\n",
            "1/1 [==============================] - 0s 19ms/step - loss: 0.0140 - accuracy: 1.0000 - val_loss: 0.3980 - val_accuracy: 0.7143\n",
            "Epoch 92/100\n",
            "1/1 [==============================] - 0s 20ms/step - loss: 0.0040 - accuracy: 1.0000 - val_loss: 0.4028 - val_accuracy: 0.7143\n",
            "Epoch 93/100\n",
            "1/1 [==============================] - 0s 23ms/step - loss: 0.0258 - accuracy: 1.0000 - val_loss: 0.4034 - val_accuracy: 0.7143\n",
            "Epoch 94/100\n",
            "1/1 [==============================] - 0s 20ms/step - loss: 0.0109 - accuracy: 1.0000 - val_loss: 0.4041 - val_accuracy: 0.7143\n",
            "Epoch 95/100\n",
            "1/1 [==============================] - 0s 20ms/step - loss: 0.0066 - accuracy: 1.0000 - val_loss: 0.4059 - val_accuracy: 0.7143\n",
            "Epoch 96/100\n",
            "1/1 [==============================] - 0s 21ms/step - loss: 0.0479 - accuracy: 0.9643 - val_loss: 0.4095 - val_accuracy: 0.7143\n",
            "Epoch 97/100\n",
            "1/1 [==============================] - 0s 18ms/step - loss: 0.0484 - accuracy: 1.0000 - val_loss: 0.4112 - val_accuracy: 0.7143\n",
            "Epoch 98/100\n",
            "1/1 [==============================] - 0s 20ms/step - loss: 0.0303 - accuracy: 0.9643 - val_loss: 0.4117 - val_accuracy: 0.7143\n",
            "Epoch 99/100\n",
            "1/1 [==============================] - 0s 19ms/step - loss: 0.0024 - accuracy: 1.0000 - val_loss: 0.4122 - val_accuracy: 0.7143\n",
            "Epoch 100/100\n",
            "1/1 [==============================] - 0s 18ms/step - loss: 0.0170 - accuracy: 1.0000 - val_loss: 0.4145 - val_accuracy: 0.7143\n"
          ],
          "name": "stdout"
        }
      ]
    },
    {
      "cell_type": "code",
      "metadata": {
        "id": "ULhN5TNaXD5p",
        "colab_type": "code",
        "colab": {}
      },
      "source": [
        "p_test = model.predict(x_test).argmax(axis=1)"
      ],
      "execution_count": 38,
      "outputs": []
    },
    {
      "cell_type": "code",
      "metadata": {
        "id": "TKm7pNyzZCeR",
        "colab_type": "code",
        "colab": {
          "base_uri": "https://localhost:8080/",
          "height": 34
        },
        "outputId": "b7a70be3-8e33-4552-d3ae-d9b2c5c89983"
      },
      "source": [
        "p_test"
      ],
      "execution_count": 39,
      "outputs": [
        {
          "output_type": "execute_result",
          "data": {
            "text/plain": [
              "array([1, 0, 0, 0, 0, 0, 0])"
            ]
          },
          "metadata": {
            "tags": []
          },
          "execution_count": 39
        }
      ]
    },
    {
      "cell_type": "code",
      "metadata": {
        "id": "eaNRhZR0ZFEr",
        "colab_type": "code",
        "colab": {
          "base_uri": "https://localhost:8080/",
          "height": 34
        },
        "outputId": "045f368f-cb1f-45c8-e211-23536f31ffc5"
      },
      "source": [
        "y_test"
      ],
      "execution_count": 40,
      "outputs": [
        {
          "output_type": "execute_result",
          "data": {
            "text/plain": [
              "array([1, 1, 1, 0, 0, 0, 0], dtype=int32)"
            ]
          },
          "metadata": {
            "tags": []
          },
          "execution_count": 40
        }
      ]
    },
    {
      "cell_type": "code",
      "metadata": {
        "id": "O6H_a6vxZVqA",
        "colab_type": "code",
        "colab": {
          "base_uri": "https://localhost:8080/",
          "height": 34
        },
        "outputId": "f95aeac3-67b6-49f8-99cb-54efde580e0e"
      },
      "source": [
        "rs = np.where(y_train != p_test)\n",
        "len(rs)"
      ],
      "execution_count": 36,
      "outputs": [
        {
          "output_type": "execute_result",
          "data": {
            "text/plain": [
              "1"
            ]
          },
          "metadata": {
            "tags": []
          },
          "execution_count": 36
        }
      ]
    }
  ]
}